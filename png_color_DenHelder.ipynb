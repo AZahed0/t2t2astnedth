pip install osmnx
import osmnx as ox
import matplotlib.pyplot as plt

color_palette = [
    {"Neon": "#ff0099", "Background": "#2e002e"},
    {"Neon": "#00ff00", "Background": "#003300"},
    {"Neon": "#00ccff", "Background": "#002233"},
    {"Neon": "#ffff00", "Background": "#333300"},
    {"Neon": "#ff6600", "Background": "#331a00"},
    {"Neon": "#ff00ff", "Background": "#330033"}
]

city = "Den Helder, Nederlands"

admin = ox.geocode_to_gdf("Den Helder, Netherlands")  # Keep for fetching data
G = ox.graph_from_polygon(admin.geometry.iloc[0], network_type='drive')
nodes, edges = ox.graph_to_gdfs(G)

for idx, colors in enumerate(color_palette):
    neon = colors['Neon']
    color_bcg = colors['Background']
    width = 0.5

    fig, ax = plt.subplots(1, 1, figsize=(12, 12))
    fig.patch.set_facecolor(color_bcg)
    edges.plot(ax=ax, color=neon, linewidth=width, alpha=0.9)
    ax.set_facecolor(color_bcg)

    for label in ax.get_xticklabels():
        label.set_visible(False)
    for label in ax.get_yticklabels():
        label.set_visible(False)
    for tick in ax.get_xticklines():
        tick.set_visible(False)
    for tick in ax.get_yticklines():
        tick.set_visible(False)

    ymin, ymax = plt.ylim()
    extension = 0.1 * (ymax - ymin)
    ax.set_ylim(ymin, ymax + extension)

    ax.set_title("Den Helder, Nederlands", fontsize=20, color=color_bcg, y=0.95)

    ax.text(
        0.5, 0.91,
        city,
        color=neon,
        fontsize=16,
        ha='center',
        va='center',
        transform=ax.transAxes
    )

    plt.show()
