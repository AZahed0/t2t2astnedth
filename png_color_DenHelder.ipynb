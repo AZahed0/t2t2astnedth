pip install osmnx
import osmnx as ox
import matplotlib.pyplot as plt

color_palette = [
    {"Neon": "#ff0099", "Background": "#2e002e"},
    {"Neon": "#00ff00", "Background": "#003300"},
    {"Neon": "#00ccff", "Background": "#002233"},
    {"Neon": "#ffff00", "Background": "#333300"},
    {"Neon": "#ff6600", "Background": "#331a00"},
    {"Neon": "#ff00ff", "Background": "#330033"}
]

city = "Den Helder, Nederlands"

admin = ox.geocode_to_gdf("Den Helder, Netherlands")
G = ox.graph_from_polygon(admin.geometry.iloc[0], network_type='drive')
nodes, edges = ox.graph_to_gdfs(G)

for idx, colors in enumerate(color_palette):
    neon = colors['Neon']
    color_bcg = colors['Background']
    width = 0.5

    fig, ax = plt.subplots(1, 1, figsize=(24, 24), dpi=300)  # BIG figure and high dpi
    fig.patch.set_facecolor(color_bcg)
    edges.plot(ax=ax, color=neon, linewidth=width, alpha=0.9)
    ax.set_facecolor(color_bcg)

    ax.set_xticks([])
    ax.set_yticks([])
    ax.axis('off')

    ymin, ymax = plt.ylim()
    extension = 0.1 * (ymax - ymin)
    ax.set_ylim(ymin, ymax + extension)

    ax.set_title("Den Helder, Nederlands", fontsize=40, color=color_bcg, y=0.95)

    ax.text(
        0.5, 0.91,
        city,
        color=neon,
        fontsize=32,
        ha='center',
        va='center',
        transform=ax.transAxes
    )

    # Save high-res image
    filename = f"den_helder_map_{idx+1}.png"
    plt.savefig(filename, bbox_inches='tight', facecolor=fig.get_facecolor())
    print(f"Saved {filename}")

    plt.show()
